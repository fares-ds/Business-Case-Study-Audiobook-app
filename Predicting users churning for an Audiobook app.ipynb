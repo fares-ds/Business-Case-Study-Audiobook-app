{
 "cells": [
  {
   "cell_type": "markdown",
   "metadata": {},
   "source": [
    "# Business Case Study: Audiobook app\n",
    "You are given data from an Audiobook app. Logically, it relates only to the audio versions of books.  We want to create a machine learning model based on our available data that can predict if a customer will buy again from the Audiobook company.\n",
    "\n",
    "- The data is from an audiobook app, each customer in the database has make a purchase at least once.\n",
    "- The main idea is that the company shouldn't spend there money targeting individuals who are unlikely to come back.\n",
    "- If we focus on client who are more likely to convert again we'll get increase the sales and profitability figures.\n",
    "\n",
    "The model must show us which are the most important metrics for a client to come back."
   ]
  },
  {
   "cell_type": "code",
   "execution_count": 2,
   "metadata": {},
   "outputs": [],
   "source": [
    "import pandas as pd\n",
    "import numpy as np\n",
    "\n",
    "import matplotlib.pyplot as plt\n",
    "import seaborn as sns\n",
    "\n",
    "%matplotlib inline\n",
    "sns.set_style(\"whitegrid\")\n",
    "\n",
    "pd.set_option(\"display.max_columns\", 80)\n",
    "pd.set_option(\"display.max_rows\", 80)\n",
    "pd.set_option(\"display.float_format\", \"{:.2f}\".format)"
   ]
  },
  {
   "cell_type": "code",
   "execution_count": 3,
   "metadata": {},
   "outputs": [
    {
     "data": {
      "text/html": [
       "<div>\n",
       "<style scoped>\n",
       "    .dataframe tbody tr th:only-of-type {\n",
       "        vertical-align: middle;\n",
       "    }\n",
       "\n",
       "    .dataframe tbody tr th {\n",
       "        vertical-align: top;\n",
       "    }\n",
       "\n",
       "    .dataframe thead th {\n",
       "        text-align: right;\n",
       "    }\n",
       "</style>\n",
       "<table border=\"1\" class=\"dataframe\">\n",
       "  <thead>\n",
       "    <tr style=\"text-align: right;\">\n",
       "      <th></th>\n",
       "      <th>Book_length(mins)_overall</th>\n",
       "      <th>Book_length(mins)_avg</th>\n",
       "      <th>Price_overall</th>\n",
       "      <th>Price_avg</th>\n",
       "      <th>Review</th>\n",
       "      <th>Review10/10</th>\n",
       "      <th>Completion</th>\n",
       "      <th>Minutes_listened</th>\n",
       "      <th>Support_Request</th>\n",
       "      <th>Last_Visited_mins_Purchase_date</th>\n",
       "      <th>Target</th>\n",
       "    </tr>\n",
       "  </thead>\n",
       "  <tbody>\n",
       "    <tr>\n",
       "      <th>994</th>\n",
       "      <td>1620.00</td>\n",
       "      <td>1620</td>\n",
       "      <td>19.73</td>\n",
       "      <td>19.73</td>\n",
       "      <td>1</td>\n",
       "      <td>10.00</td>\n",
       "      <td>0.99</td>\n",
       "      <td>1603.80</td>\n",
       "      <td>5</td>\n",
       "      <td>92</td>\n",
       "      <td>0</td>\n",
       "    </tr>\n",
       "    <tr>\n",
       "      <th>1143</th>\n",
       "      <td>2160.00</td>\n",
       "      <td>2160</td>\n",
       "      <td>5.33</td>\n",
       "      <td>5.33</td>\n",
       "      <td>0</td>\n",
       "      <td>8.91</td>\n",
       "      <td>0.00</td>\n",
       "      <td>0.00</td>\n",
       "      <td>0</td>\n",
       "      <td>0</td>\n",
       "      <td>0</td>\n",
       "    </tr>\n",
       "    <tr>\n",
       "      <th>2059</th>\n",
       "      <td>2160.00</td>\n",
       "      <td>2160</td>\n",
       "      <td>5.33</td>\n",
       "      <td>5.33</td>\n",
       "      <td>0</td>\n",
       "      <td>8.91</td>\n",
       "      <td>0.00</td>\n",
       "      <td>0.00</td>\n",
       "      <td>0</td>\n",
       "      <td>388</td>\n",
       "      <td>0</td>\n",
       "    </tr>\n",
       "    <tr>\n",
       "      <th>2882</th>\n",
       "      <td>1620.00</td>\n",
       "      <td>1620</td>\n",
       "      <td>5.96</td>\n",
       "      <td>5.96</td>\n",
       "      <td>0</td>\n",
       "      <td>8.91</td>\n",
       "      <td>0.42</td>\n",
       "      <td>680.40</td>\n",
       "      <td>1</td>\n",
       "      <td>129</td>\n",
       "      <td>0</td>\n",
       "    </tr>\n",
       "    <tr>\n",
       "      <th>3342</th>\n",
       "      <td>2160.00</td>\n",
       "      <td>2160</td>\n",
       "      <td>5.33</td>\n",
       "      <td>5.33</td>\n",
       "      <td>0</td>\n",
       "      <td>8.91</td>\n",
       "      <td>0.22</td>\n",
       "      <td>475.20</td>\n",
       "      <td>0</td>\n",
       "      <td>361</td>\n",
       "      <td>0</td>\n",
       "    </tr>\n",
       "  </tbody>\n",
       "</table>\n",
       "</div>"
      ],
      "text/plain": [
       "      Book_length(mins)_overall  Book_length(mins)_avg  Price_overall  \\\n",
       "994                     1620.00                   1620          19.73   \n",
       "1143                    2160.00                   2160           5.33   \n",
       "2059                    2160.00                   2160           5.33   \n",
       "2882                    1620.00                   1620           5.96   \n",
       "3342                    2160.00                   2160           5.33   \n",
       "\n",
       "      Price_avg  Review  Review10/10  Completion  Minutes_listened  \\\n",
       "994       19.73       1        10.00        0.99           1603.80   \n",
       "1143       5.33       0         8.91        0.00              0.00   \n",
       "2059       5.33       0         8.91        0.00              0.00   \n",
       "2882       5.96       0         8.91        0.42            680.40   \n",
       "3342       5.33       0         8.91        0.22            475.20   \n",
       "\n",
       "      Support_Request  Last_Visited_mins_Purchase_date  Target  \n",
       "994                 5                               92       0  \n",
       "1143                0                                0       0  \n",
       "2059                0                              388       0  \n",
       "2882                1                              129       0  \n",
       "3342                0                              361       0  "
      ]
     },
     "execution_count": 3,
     "metadata": {},
     "output_type": "execute_result"
    }
   ],
   "source": [
    "columns = [\"ID\", \"Book_length(mins)_overall\", \"Book_length(mins)_avg\", \"Price_overall\", \"Price_avg\", \n",
    "         \"Review\", \"Review10/10\", \"Completion\", \"Minutes_listened\", \"Support_Request\", \"Last_Visited_mins_Purchase_date\", \n",
    "         \"Target\"]\n",
    "\n",
    "data = pd.read_csv(\"data/Audiobooks_data.csv\", header=None)\n",
    "data.columns = columns\n",
    "data.set_index('ID', drop=True, inplace=True)\n",
    "data.index.name =None\n",
    "\n",
    "data.head()"
   ]
  },
  {
   "cell_type": "markdown",
   "metadata": {},
   "source": [
    "# 1. Getting aquainted with the dataset\n",
    "\n",
    "- `ÌD`: is like a name.\n",
    "\n",
    "- `Book_length(mins)_overall`: is the sum of the lengths of purchases.\n",
    "\n",
    "- `Book_length(mins)_avg`: is the sum of the lengths of purchases divided by the number of purchases. Notice we don't need the number of purchases column because we ca get it from `Book_length(mins)_overall` / `Book_length(mins)_avg`.\n",
    "\n",
    "- `Price_overall` & `Price_avg`: Same as Book length, the price variable is almost always a good predictor.\n",
    "\n",
    "- `Review`: is boolean. It shows if the customer left a review. If so, `Review10/10` saves the review left by the user. While most users don't left a review we fill the missing reviews by avrage review column.\n",
    "\n",
    "- `Minutes_listened`: is a measure of engagement, the total of minutes the user listen to audiobooks.\n",
    "\n",
    "- `Completion`: is the `Minutes_listened` / `Book_length(mins)_overall`.\n",
    "\n",
    "- `Support_Request`: Shows the total number of support request (forgotten password to assistance).\n",
    "\n",
    "- `Last_Visited_mins_Purchase_date`: the bigger the difference, the bigger sooner the engagement. If the value is 0, we are sure the customer has never accessed what he/she has bought.\n",
    "\n",
    "The data was gathered from the audiobook app, the input data represents `2 years` worth of engagement. We are doing supervised learning so we need `target`. We took extra `6 month` to check if the user converted or not. 1 if the customer buys in the next 6 months, 0 if the customer didn't.\n",
    "\n",
    "- `target`: 1 if the customer bought again in the last 6 months of data. 0 if the customer did not buy again."
   ]
  },
  {
   "cell_type": "markdown",
   "metadata": {},
   "source": [
    "# 2. Exploratory Data Analysis"
   ]
  },
  {
   "cell_type": "code",
   "execution_count": 4,
   "metadata": {},
   "outputs": [
    {
     "data": {
      "text/html": [
       "<div>\n",
       "<style scoped>\n",
       "    .dataframe tbody tr th:only-of-type {\n",
       "        vertical-align: middle;\n",
       "    }\n",
       "\n",
       "    .dataframe tbody tr th {\n",
       "        vertical-align: top;\n",
       "    }\n",
       "\n",
       "    .dataframe thead th {\n",
       "        text-align: right;\n",
       "    }\n",
       "</style>\n",
       "<table border=\"1\" class=\"dataframe\">\n",
       "  <thead>\n",
       "    <tr style=\"text-align: right;\">\n",
       "      <th></th>\n",
       "      <th>Book_length(mins)_overall</th>\n",
       "      <th>Book_length(mins)_avg</th>\n",
       "      <th>Price_overall</th>\n",
       "      <th>Price_avg</th>\n",
       "      <th>Review</th>\n",
       "      <th>Review10/10</th>\n",
       "      <th>Completion</th>\n",
       "      <th>Minutes_listened</th>\n",
       "      <th>Support_Request</th>\n",
       "      <th>Last_Visited_mins_Purchase_date</th>\n",
       "      <th>Target</th>\n",
       "    </tr>\n",
       "  </thead>\n",
       "  <tbody>\n",
       "    <tr>\n",
       "      <th>count</th>\n",
       "      <td>14084.00</td>\n",
       "      <td>14084.00</td>\n",
       "      <td>14084.00</td>\n",
       "      <td>14084.00</td>\n",
       "      <td>14084.00</td>\n",
       "      <td>14084.00</td>\n",
       "      <td>14084.00</td>\n",
       "      <td>14084.00</td>\n",
       "      <td>14084.00</td>\n",
       "      <td>14084.00</td>\n",
       "      <td>14084.00</td>\n",
       "    </tr>\n",
       "    <tr>\n",
       "      <th>mean</th>\n",
       "      <td>1591.28</td>\n",
       "      <td>1678.61</td>\n",
       "      <td>7.10</td>\n",
       "      <td>7.54</td>\n",
       "      <td>0.16</td>\n",
       "      <td>8.91</td>\n",
       "      <td>0.13</td>\n",
       "      <td>189.89</td>\n",
       "      <td>0.07</td>\n",
       "      <td>61.94</td>\n",
       "      <td>0.16</td>\n",
       "    </tr>\n",
       "    <tr>\n",
       "      <th>std</th>\n",
       "      <td>504.34</td>\n",
       "      <td>654.84</td>\n",
       "      <td>4.93</td>\n",
       "      <td>5.56</td>\n",
       "      <td>0.37</td>\n",
       "      <td>0.64</td>\n",
       "      <td>0.24</td>\n",
       "      <td>371.08</td>\n",
       "      <td>0.47</td>\n",
       "      <td>88.21</td>\n",
       "      <td>0.37</td>\n",
       "    </tr>\n",
       "    <tr>\n",
       "      <th>min</th>\n",
       "      <td>216.00</td>\n",
       "      <td>216.00</td>\n",
       "      <td>3.86</td>\n",
       "      <td>3.86</td>\n",
       "      <td>0.00</td>\n",
       "      <td>1.00</td>\n",
       "      <td>0.00</td>\n",
       "      <td>0.00</td>\n",
       "      <td>0.00</td>\n",
       "      <td>0.00</td>\n",
       "      <td>0.00</td>\n",
       "    </tr>\n",
       "    <tr>\n",
       "      <th>25%</th>\n",
       "      <td>1188.00</td>\n",
       "      <td>1188.00</td>\n",
       "      <td>5.33</td>\n",
       "      <td>5.33</td>\n",
       "      <td>0.00</td>\n",
       "      <td>8.91</td>\n",
       "      <td>0.00</td>\n",
       "      <td>0.00</td>\n",
       "      <td>0.00</td>\n",
       "      <td>0.00</td>\n",
       "      <td>0.00</td>\n",
       "    </tr>\n",
       "    <tr>\n",
       "      <th>50%</th>\n",
       "      <td>1620.00</td>\n",
       "      <td>1620.00</td>\n",
       "      <td>5.95</td>\n",
       "      <td>6.07</td>\n",
       "      <td>0.00</td>\n",
       "      <td>8.91</td>\n",
       "      <td>0.00</td>\n",
       "      <td>0.00</td>\n",
       "      <td>0.00</td>\n",
       "      <td>11.00</td>\n",
       "      <td>0.00</td>\n",
       "    </tr>\n",
       "    <tr>\n",
       "      <th>75%</th>\n",
       "      <td>2160.00</td>\n",
       "      <td>2160.00</td>\n",
       "      <td>8.00</td>\n",
       "      <td>8.00</td>\n",
       "      <td>0.00</td>\n",
       "      <td>8.91</td>\n",
       "      <td>0.13</td>\n",
       "      <td>194.40</td>\n",
       "      <td>0.00</td>\n",
       "      <td>105.00</td>\n",
       "      <td>0.00</td>\n",
       "    </tr>\n",
       "    <tr>\n",
       "      <th>max</th>\n",
       "      <td>2160.00</td>\n",
       "      <td>7020.00</td>\n",
       "      <td>130.94</td>\n",
       "      <td>130.94</td>\n",
       "      <td>1.00</td>\n",
       "      <td>10.00</td>\n",
       "      <td>1.00</td>\n",
       "      <td>2160.00</td>\n",
       "      <td>30.00</td>\n",
       "      <td>464.00</td>\n",
       "      <td>1.00</td>\n",
       "    </tr>\n",
       "  </tbody>\n",
       "</table>\n",
       "</div>"
      ],
      "text/plain": [
       "       Book_length(mins)_overall  Book_length(mins)_avg  Price_overall  \\\n",
       "count                   14084.00               14084.00       14084.00   \n",
       "mean                     1591.28                1678.61           7.10   \n",
       "std                       504.34                 654.84           4.93   \n",
       "min                       216.00                 216.00           3.86   \n",
       "25%                      1188.00                1188.00           5.33   \n",
       "50%                      1620.00                1620.00           5.95   \n",
       "75%                      2160.00                2160.00           8.00   \n",
       "max                      2160.00                7020.00         130.94   \n",
       "\n",
       "       Price_avg   Review  Review10/10  Completion  Minutes_listened  \\\n",
       "count   14084.00 14084.00     14084.00    14084.00          14084.00   \n",
       "mean        7.54     0.16         8.91        0.13            189.89   \n",
       "std         5.56     0.37         0.64        0.24            371.08   \n",
       "min         3.86     0.00         1.00        0.00              0.00   \n",
       "25%         5.33     0.00         8.91        0.00              0.00   \n",
       "50%         6.07     0.00         8.91        0.00              0.00   \n",
       "75%         8.00     0.00         8.91        0.13            194.40   \n",
       "max       130.94     1.00        10.00        1.00           2160.00   \n",
       "\n",
       "       Support_Request  Last_Visited_mins_Purchase_date   Target  \n",
       "count         14084.00                         14084.00 14084.00  \n",
       "mean              0.07                            61.94     0.16  \n",
       "std               0.47                            88.21     0.37  \n",
       "min               0.00                             0.00     0.00  \n",
       "25%               0.00                             0.00     0.00  \n",
       "50%               0.00                            11.00     0.00  \n",
       "75%               0.00                           105.00     0.00  \n",
       "max              30.00                           464.00     1.00  "
      ]
     },
     "execution_count": 4,
     "metadata": {},
     "output_type": "execute_result"
    }
   ],
   "source": [
    "data.describe()"
   ]
  },
  {
   "cell_type": "code",
   "execution_count": 5,
   "metadata": {},
   "outputs": [
    {
     "data": {
      "text/plain": [
       "Book_length(mins)_overall          0\n",
       "Book_length(mins)_avg              0\n",
       "Price_overall                      0\n",
       "Price_avg                          0\n",
       "Review                             0\n",
       "Review10/10                        0\n",
       "Completion                         0\n",
       "Minutes_listened                   0\n",
       "Support_Request                    0\n",
       "Last_Visited_mins_Purchase_date    0\n",
       "Target                             0\n",
       "dtype: int64"
      ]
     },
     "execution_count": 5,
     "metadata": {},
     "output_type": "execute_result"
    }
   ],
   "source": [
    "data.isnull().sum()"
   ]
  },
  {
   "cell_type": "code",
   "execution_count": 6,
   "metadata": {},
   "outputs": [
    {
     "name": "stdout",
     "output_type": "stream",
     "text": [
      "<class 'pandas.core.frame.DataFrame'>\n",
      "Int64Index: 14084 entries, 994 to 251\n",
      "Data columns (total 11 columns):\n",
      "Book_length(mins)_overall          14084 non-null float64\n",
      "Book_length(mins)_avg              14084 non-null int64\n",
      "Price_overall                      14084 non-null float64\n",
      "Price_avg                          14084 non-null float64\n",
      "Review                             14084 non-null int64\n",
      "Review10/10                        14084 non-null float64\n",
      "Completion                         14084 non-null float64\n",
      "Minutes_listened                   14084 non-null float64\n",
      "Support_Request                    14084 non-null int64\n",
      "Last_Visited_mins_Purchase_date    14084 non-null int64\n",
      "Target                             14084 non-null int64\n",
      "dtypes: float64(6), int64(5)\n",
      "memory usage: 1.3 MB\n"
     ]
    }
   ],
   "source": [
    "data.info()"
   ]
  },
  {
   "cell_type": "markdown",
   "metadata": {},
   "source": [
    "## `Book_length(mins)_overall` & `Book_length(mins)_avg`\n",
    "\n",
    "- `Book_length(mins)_overall`: is the sum of the lengths of purchases.\n",
    "\n",
    "- `Book_length(mins)_avg`: is the sum of the lengths of purchases divided by the number of purchases. Notice we don't need the number of purchases column because we ca get it from `Book_length(mins)_overall` / `Book_length(mins)_avg`."
   ]
  },
  {
   "cell_type": "code",
   "execution_count": 17,
   "metadata": {},
   "outputs": [],
   "source": [
    "def book_length(length):\n",
    "    if length > 1200:\n",
    "        return 1\n",
    "    else:\n",
    "        return 0\n",
    "    \n",
    "data['purchases_hour_>3h'] = data['Book_length(mins)_overall'].apply(book_length)"
   ]
  },
  {
   "cell_type": "code",
   "execution_count": 24,
   "metadata": {},
   "outputs": [
    {
     "data": {
      "text/plain": [
       "1    9480\n",
       "0    4604\n",
       "Name: Book_length(mins)_avg, dtype: int64"
      ]
     },
     "execution_count": 24,
     "metadata": {},
     "output_type": "execute_result"
    }
   ],
   "source": [
    "data['Book_length(mins)_avg'].apply(book_length).value_counts()"
   ]
  },
  {
   "cell_type": "code",
   "execution_count": 28,
   "metadata": {},
   "outputs": [
    {
     "data": {
      "image/png": "[encoded data removed]",
      "text/plain": [
       "<Figure size 864x504 with 3 Axes>"
      ]
     },
     "metadata": {},
     "output_type": "display_data"
    }
   ],
   "source": [
    "columns = ['purchases_hour_>3h', 'Book_length(mins)_overall', 'Book_length(mins)_avg']\n",
    "plt.figure(figsize=(12, 7))\n",
    "\n",
    "for i, column in enumerate(columns, 1):\n",
    "    plt.subplot(2, 2, i)\n",
    "    data[data[\"Target\"] == 0][column].hist(bins=35, color='blue', label='Bought Again = NO', alpha=0.6)\n",
    "    data[data[\"Target\"] == 1][column].hist(bins=35, color='red', label='Bought Again = YES', alpha=0.6)\n",
    "    plt.legend()\n",
    "    plt.xlabel(column)"
   ]
  },
  {
   "cell_type": "markdown",
   "metadata": {},
   "source": [
    "## `Price_overall` & `Price_avg`\n",
    "\n",
    "- `Price_overall` & `Price_avg`: Same as Book length, the price variable is almost always a good predictor."
   ]
  },
  {
   "cell_type": "code",
   "execution_count": 42,
   "metadata": {},
   "outputs": [
    {
     "data": {
      "image/png": "[encoded data removed]",
      "text/plain": [
       "<Figure size 864x504 with 2 Axes>"
      ]
     },
     "metadata": {},
     "output_type": "display_data"
    }
   ],
   "source": [
    "columns = [\"Price_overall\", \"Price_avg\"]\n",
    "plt.figure(figsize=(12, 7))\n",
    "df = data[(data.Price_overall < 20) & (data.Price_avg < 20)]\n",
    "\n",
    "for i, column in enumerate(columns, 1):\n",
    "    plt.subplot(2, 2, i)\n",
    "    df[df[\"Target\"] == 0][column].hist(bins=35, color='blue', label='Bought Again = NO', alpha=0.6)\n",
    "    df[df[\"Target\"] == 1][column].hist(bins=35, color='red', label='Bought Again = YES', alpha=0.6)\n",
    "    plt.legend()\n",
    "    plt.xlabel(column)"
   ]
  },
  {
   "cell_type": "markdown",
   "metadata": {},
   "source": [
    "## `Review` & `Review10/10`\n",
    "- `Review`: is boolean. It shows if the customer left a review. If so, `Review10/10` saves the review left by the user. While most users don't left a review we fill the missing reviews by avrage review column."
   ]
  },
  {
   "cell_type": "code",
   "execution_count": 51,
   "metadata": {},
   "outputs": [
    {
     "name": "stdout",
     "output_type": "stream",
     "text": [
      "0   0.84\n",
      "1   0.16\n",
      "Name: Target, dtype: float64\n",
      "0   0.83\n",
      "1   0.17\n",
      "Name: Target, dtype: float64\n"
     ]
    }
   ],
   "source": [
    "print(data[data['Review'] == 0].Target.value_counts(normalize=True))\n",
    "print(data[data['Review'] == 1].Target.value_counts(normalize=True))"
   ]
  },
  {
   "cell_type": "code",
   "execution_count": 45,
   "metadata": {},
   "outputs": [
    {
     "data": {
      "text/plain": [
       "8.91     11616\n",
       "10.00     1284\n",
       "8.00       404\n",
       "9.00       381\n",
       "7.00       157\n",
       "6.00       104\n",
       "5.00        43\n",
       "9.50        21\n",
       "4.00        18\n",
       "8.50        11\n",
       "1.00        10\n",
       "3.00         9\n",
       "2.00         7\n",
       "6.50         5\n",
       "8.33         2\n",
       "5.50         2\n",
       "8.67         2\n",
       "7.50         2\n",
       "6.67         1\n",
       "1.50         1\n",
       "9.40         1\n",
       "7.75         1\n",
       "4.50         1\n",
       "9.67         1\n",
       "Name: Review10/10, dtype: int64"
      ]
     },
     "execution_count": 45,
     "metadata": {},
     "output_type": "execute_result"
    }
   ],
   "source": [
    "data['Review10/10'].value_counts()"
   ]
  },
  {
   "cell_type": "code",
   "execution_count": 46,
   "metadata": {},
   "outputs": [
    {
     "data": {
      "image/png": "[encoded data removed]",
      "text/plain": [
       "<Figure size 864x504 with 2 Axes>"
      ]
     },
     "metadata": {},
     "output_type": "display_data"
    }
   ],
   "source": [
    "columns = [\"Review\", \"Review10/10\"]\n",
    "plt.figure(figsize=(12, 7))\n",
    "\n",
    "for i, column in enumerate(columns, 1):\n",
    "    plt.subplot(2, 2, i)\n",
    "    data[data[\"Target\"] == 0][column].hist(bins=35, color='blue', label='Bought Again = NO', alpha=0.6)\n",
    "    data[data[\"Target\"] == 1][column].hist(bins=35, color='red', label='Bought Again = YES', alpha=0.6)\n",
    "    plt.legend()\n",
    "    plt.xlabel(column)"
   ]
  },
  {
   "cell_type": "markdown",
   "metadata": {},
   "source": [
    "## `Minutes_listened` & `Completion`\n",
    "- `Minutes_listened`: is a measure of engagement, the total of minutes the user listen to audiobooks.\n",
    "- `Completion`: is the `Minutes_listened` / `Book_length(mins)_overall`."
   ]
  },
  {
   "cell_type": "code",
   "execution_count": 55,
   "metadata": {},
   "outputs": [],
   "source": [
    "def listened_to_books(minutes):\n",
    "    if minutes > 0.0:\n",
    "        return 0\n",
    "    else:\n",
    "        return 1\n",
    "data['listened_to_books'] = data.Minutes_listened.apply(listened_to_books)"
   ]
  },
  {
   "cell_type": "code",
   "execution_count": 64,
   "metadata": {},
   "outputs": [],
   "source": [
    "def completion_state(minutes):\n",
    "    if minutes > 0.5:\n",
    "        return 1\n",
    "    else:\n",
    "        return 0\n",
    "data['completion_state'] = data.Completion.apply(completion_state)"
   ]
  },
  {
   "cell_type": "code",
   "execution_count": 65,
   "metadata": {},
   "outputs": [
    {
     "data": {
      "image/png": "[encoded data removed]",
      "text/plain": [
       "<Figure size 864x504 with 4 Axes>"
      ]
     },
     "metadata": {},
     "output_type": "display_data"
    }
   ],
   "source": [
    "columns = [\"Minutes_listened\", \"Completion\", \"listened_to_books\", \"completion_state\"]\n",
    "plt.figure(figsize=(12, 7))\n",
    "\n",
    "for i, column in enumerate(columns, 1):\n",
    "    plt.subplot(2, 2, i)\n",
    "    data[data[\"Target\"] == 0][column].hist(bins=35, color='blue', label='Bought Again = NO', alpha=0.6)\n",
    "    data[data[\"Target\"] == 1][column].hist(bins=35, color='red', label='Bought Again = YES', alpha=0.6)\n",
    "    plt.legend()\n",
    "    plt.xlabel(column)"
   ]
  },
  {
   "cell_type": "code",
   "execution_count": 68,
   "metadata": {},
   "outputs": [],
   "source": [
    "data.drop('Minutes_listened', axis=1, inplace=True)"
   ]
  },
  {
   "cell_type": "markdown",
   "metadata": {},
   "source": [
    "## `Support_Request` & `Last_Visited_mins_Purchase_date`\n",
    "\n",
    "- `Support_Request`: Shows the total number of support request (forgotten password to assistance).\n",
    "- `Last_Visited_mins_Purchase_date`: the bigger the difference, the bigger sooner the engagement. If the value is 0, we are sure the customer has never accessed what he/she has bought."
   ]
  },
  {
   "cell_type": "code",
   "execution_count": 71,
   "metadata": {},
   "outputs": [],
   "source": [
    "def asked_for_request(request):\n",
    "    if request == 0:\n",
    "        return 0\n",
    "    else:\n",
    "        return 1\n",
    "    \n",
    "data[\"asked_for_request\"] = data.Support_Request.apply(asked_for_request)"
   ]
  },
  {
   "cell_type": "code",
   "execution_count": 75,
   "metadata": {},
   "outputs": [],
   "source": [
    "def acc_purchases(purchase):\n",
    "    if purchase == 0:\n",
    "        return 0\n",
    "    else:\n",
    "        return 1\n",
    "data['acc_purchases'] = data.Last_Visited_mins_Purchase_date.apply(acc_purchases)"
   ]
  },
  {
   "cell_type": "code",
   "execution_count": 78,
   "metadata": {},
   "outputs": [
    {
     "data": {
      "text/plain": [
       "0      5493\n",
       "1       357\n",
       "2       198\n",
       "3       165\n",
       "5       140\n",
       "       ... \n",
       "354       1\n",
       "338       1\n",
       "369       1\n",
       "464       1\n",
       "379       1\n",
       "Name: Last_Visited_mins_Purchase_date, Length: 371, dtype: int64"
      ]
     },
     "execution_count": 78,
     "metadata": {},
     "output_type": "execute_result"
    }
   ],
   "source": [
    "data.Last_Visited_mins_Purchase_date.value_counts()"
   ]
  },
  {
   "cell_type": "code",
   "execution_count": null,
   "metadata": {},
   "outputs": [],
   "source": []
  },
  {
   "cell_type": "code",
   "execution_count": null,
   "metadata": {},
   "outputs": [],
   "source": []
  },
  {
   "cell_type": "code",
   "execution_count": 7,
   "metadata": {},
   "outputs": [
    {
     "name": "stdout",
     "output_type": "stream",
     "text": [
      "0    11847\n",
      "1     2237\n",
      "Name: Target, dtype: int64\n",
      "5.295932051855163\n"
     ]
    }
   ],
   "source": [
    "print(f\"{data.Target.value_counts()}\")\n",
    "print(f\"{data.Target.value_counts()[0] / data.Target.value_counts()[1]}\")"
   ]
  },
  {
   "cell_type": "markdown",
   "metadata": {},
   "source": [
    "It is important to notice that our `target` variable is inbabalanced. We have only `2237` user who convert again in the `6 month` period. The data need to be balanced."
   ]
  },
  {
   "cell_type": "code",
   "execution_count": 8,
   "metadata": {},
   "outputs": [
    {
     "data": {
      "text/plain": [
       "11"
      ]
     },
     "execution_count": 8,
     "metadata": {},
     "output_type": "execute_result"
    }
   ],
   "source": [
    "len(list(data.columns))"
   ]
  },
  {
   "cell_type": "markdown",
   "metadata": {},
   "source": [
    "# 3. Data Pre-processing\n",
    "\n",
    "Since we are dealing with real life data, we will need to preprocess it a bit. This is the relevant code which is not that hard but refers to data engineering more than machine learning.\n",
    "\n",
    "- Handling categorical features\n",
    "\n",
    "- Balance the dataset. "
   ]
  },
  {
   "cell_type": "markdown",
   "metadata": {},
   "source": [
    "### Handling categorical features"
   ]
  },
  {
   "cell_type": "code",
   "execution_count": 9,
   "metadata": {},
   "outputs": [
    {
     "data": {
      "text/html": [
       "<div>\n",
       "<style scoped>\n",
       "    .dataframe tbody tr th:only-of-type {\n",
       "        vertical-align: middle;\n",
       "    }\n",
       "\n",
       "    .dataframe tbody tr th {\n",
       "        vertical-align: top;\n",
       "    }\n",
       "\n",
       "    .dataframe thead th {\n",
       "        text-align: right;\n",
       "    }\n",
       "</style>\n",
       "<table border=\"1\" class=\"dataframe\">\n",
       "  <thead>\n",
       "    <tr style=\"text-align: right;\">\n",
       "      <th></th>\n",
       "      <th>Book_length(mins)_overall</th>\n",
       "      <th>Book_length(mins)_avg</th>\n",
       "      <th>Price_overall</th>\n",
       "      <th>Price_avg</th>\n",
       "      <th>Review10/10</th>\n",
       "      <th>Completion</th>\n",
       "      <th>Minutes_listened</th>\n",
       "      <th>Last_Visited_mins_Purchase_date</th>\n",
       "      <th>Target</th>\n",
       "      <th>Support_Request_0</th>\n",
       "      <th>...</th>\n",
       "      <th>Support_Request_4</th>\n",
       "      <th>Support_Request_5</th>\n",
       "      <th>Support_Request_6</th>\n",
       "      <th>Support_Request_7</th>\n",
       "      <th>Support_Request_8</th>\n",
       "      <th>Support_Request_10</th>\n",
       "      <th>Support_Request_12</th>\n",
       "      <th>Support_Request_30</th>\n",
       "      <th>Review_0</th>\n",
       "      <th>Review_1</th>\n",
       "    </tr>\n",
       "  </thead>\n",
       "  <tbody>\n",
       "    <tr>\n",
       "      <th>994</th>\n",
       "      <td>1620.00</td>\n",
       "      <td>1620</td>\n",
       "      <td>19.73</td>\n",
       "      <td>19.73</td>\n",
       "      <td>10.00</td>\n",
       "      <td>0.99</td>\n",
       "      <td>1603.80</td>\n",
       "      <td>92</td>\n",
       "      <td>0</td>\n",
       "      <td>0</td>\n",
       "      <td>...</td>\n",
       "      <td>0</td>\n",
       "      <td>1</td>\n",
       "      <td>0</td>\n",
       "      <td>0</td>\n",
       "      <td>0</td>\n",
       "      <td>0</td>\n",
       "      <td>0</td>\n",
       "      <td>0</td>\n",
       "      <td>0</td>\n",
       "      <td>1</td>\n",
       "    </tr>\n",
       "    <tr>\n",
       "      <th>1143</th>\n",
       "      <td>2160.00</td>\n",
       "      <td>2160</td>\n",
       "      <td>5.33</td>\n",
       "      <td>5.33</td>\n",
       "      <td>8.91</td>\n",
       "      <td>0.00</td>\n",
       "      <td>0.00</td>\n",
       "      <td>0</td>\n",
       "      <td>0</td>\n",
       "      <td>1</td>\n",
       "      <td>...</td>\n",
       "      <td>0</td>\n",
       "      <td>0</td>\n",
       "      <td>0</td>\n",
       "      <td>0</td>\n",
       "      <td>0</td>\n",
       "      <td>0</td>\n",
       "      <td>0</td>\n",
       "      <td>0</td>\n",
       "      <td>1</td>\n",
       "      <td>0</td>\n",
       "    </tr>\n",
       "    <tr>\n",
       "      <th>2059</th>\n",
       "      <td>2160.00</td>\n",
       "      <td>2160</td>\n",
       "      <td>5.33</td>\n",
       "      <td>5.33</td>\n",
       "      <td>8.91</td>\n",
       "      <td>0.00</td>\n",
       "      <td>0.00</td>\n",
       "      <td>388</td>\n",
       "      <td>0</td>\n",
       "      <td>1</td>\n",
       "      <td>...</td>\n",
       "      <td>0</td>\n",
       "      <td>0</td>\n",
       "      <td>0</td>\n",
       "      <td>0</td>\n",
       "      <td>0</td>\n",
       "      <td>0</td>\n",
       "      <td>0</td>\n",
       "      <td>0</td>\n",
       "      <td>1</td>\n",
       "      <td>0</td>\n",
       "    </tr>\n",
       "    <tr>\n",
       "      <th>2882</th>\n",
       "      <td>1620.00</td>\n",
       "      <td>1620</td>\n",
       "      <td>5.96</td>\n",
       "      <td>5.96</td>\n",
       "      <td>8.91</td>\n",
       "      <td>0.42</td>\n",
       "      <td>680.40</td>\n",
       "      <td>129</td>\n",
       "      <td>0</td>\n",
       "      <td>0</td>\n",
       "      <td>...</td>\n",
       "      <td>0</td>\n",
       "      <td>0</td>\n",
       "      <td>0</td>\n",
       "      <td>0</td>\n",
       "      <td>0</td>\n",
       "      <td>0</td>\n",
       "      <td>0</td>\n",
       "      <td>0</td>\n",
       "      <td>1</td>\n",
       "      <td>0</td>\n",
       "    </tr>\n",
       "    <tr>\n",
       "      <th>3342</th>\n",
       "      <td>2160.00</td>\n",
       "      <td>2160</td>\n",
       "      <td>5.33</td>\n",
       "      <td>5.33</td>\n",
       "      <td>8.91</td>\n",
       "      <td>0.22</td>\n",
       "      <td>475.20</td>\n",
       "      <td>361</td>\n",
       "      <td>0</td>\n",
       "      <td>1</td>\n",
       "      <td>...</td>\n",
       "      <td>0</td>\n",
       "      <td>0</td>\n",
       "      <td>0</td>\n",
       "      <td>0</td>\n",
       "      <td>0</td>\n",
       "      <td>0</td>\n",
       "      <td>0</td>\n",
       "      <td>0</td>\n",
       "      <td>1</td>\n",
       "      <td>0</td>\n",
       "    </tr>\n",
       "  </tbody>\n",
       "</table>\n",
       "<p>5 rows × 23 columns</p>\n",
       "</div>"
      ],
      "text/plain": [
       "      Book_length(mins)_overall  Book_length(mins)_avg  Price_overall  \\\n",
       "994                     1620.00                   1620          19.73   \n",
       "1143                    2160.00                   2160           5.33   \n",
       "2059                    2160.00                   2160           5.33   \n",
       "2882                    1620.00                   1620           5.96   \n",
       "3342                    2160.00                   2160           5.33   \n",
       "\n",
       "      Price_avg  Review10/10  Completion  Minutes_listened  \\\n",
       "994       19.73        10.00        0.99           1603.80   \n",
       "1143       5.33         8.91        0.00              0.00   \n",
       "2059       5.33         8.91        0.00              0.00   \n",
       "2882       5.96         8.91        0.42            680.40   \n",
       "3342       5.33         8.91        0.22            475.20   \n",
       "\n",
       "      Last_Visited_mins_Purchase_date  Target  Support_Request_0  ...  \\\n",
       "994                                92       0                  0  ...   \n",
       "1143                                0       0                  1  ...   \n",
       "2059                              388       0                  1  ...   \n",
       "2882                              129       0                  0  ...   \n",
       "3342                              361       0                  1  ...   \n",
       "\n",
       "      Support_Request_4  Support_Request_5  Support_Request_6  \\\n",
       "994                   0                  1                  0   \n",
       "1143                  0                  0                  0   \n",
       "2059                  0                  0                  0   \n",
       "2882                  0                  0                  0   \n",
       "3342                  0                  0                  0   \n",
       "\n",
       "      Support_Request_7  Support_Request_8  Support_Request_10  \\\n",
       "994                   0                  0                   0   \n",
       "1143                  0                  0                   0   \n",
       "2059                  0                  0                   0   \n",
       "2882                  0                  0                   0   \n",
       "3342                  0                  0                   0   \n",
       "\n",
       "      Support_Request_12  Support_Request_30  Review_0  Review_1  \n",
       "994                    0                   0         0         1  \n",
       "1143                   0                   0         1         0  \n",
       "2059                   0                   0         1         0  \n",
       "2882                   0                   0         1         0  \n",
       "3342                   0                   0         1         0  \n",
       "\n",
       "[5 rows x 23 columns]"
      ]
     },
     "execution_count": 9,
     "metadata": {},
     "output_type": "execute_result"
    }
   ],
   "source": [
    "data_1 = pd.get_dummies(data, columns=[\"Support_Request\", \"Review\"])\n",
    "data_1.head()"
   ]
  },
  {
   "cell_type": "code",
   "execution_count": 10,
   "metadata": {},
   "outputs": [],
   "source": [
    "X = data_1.drop('Target', axis=1)\n",
    "y = data_1.Target"
   ]
  },
  {
   "cell_type": "markdown",
   "metadata": {},
   "source": [
    "## Trying Logistic Regression without balancing the dataset"
   ]
  },
  {
   "cell_type": "code",
   "execution_count": 11,
   "metadata": {},
   "outputs": [],
   "source": [
    "def accuracy_report(y_test, y_test_pred):\n",
    "    print(f\"=========test data============ :\\n=>Accuracy Score {accuracy_score(y_test, y_test_pred)}\")\n",
    "    print(f\"=>Confusion Matrix :\\n{confusion_matrix(y_test, y_test_pred)}\")\n",
    "    print(f\"=>Classification Report :\\n{classification_report(y_test, y_test_pred)}\")"
   ]
  },
  {
   "cell_type": "code",
   "execution_count": 12,
   "metadata": {},
   "outputs": [],
   "source": [
    "from sklearn.linear_model import LogisticRegression\n",
    "from sklearn.model_selection import train_test_split, cross_val_score\n",
    "from sklearn.metrics import confusion_matrix, accuracy_score, classification_report\n",
    "from sklearn.preprocessing import StandardScaler\n",
    "\n",
    "x_sc = StandardScaler()\n",
    "X_std = x_sc.fit_transform(X)\n",
    "\n",
    "X_train, X_test, y_train, y_test = train_test_split(X_std, y, test_size=0.2, random_state=42)\n",
    "\n",
    "model = LogisticRegression(solver='liblinear', max_iter=1000)\n",
    "model.fit(X_train, y_train)\n",
    "\n",
    "y_pred = model.predict(X_test)"
   ]
  },
  {
   "cell_type": "code",
   "execution_count": 13,
   "metadata": {},
   "outputs": [
    {
     "name": "stdout",
     "output_type": "stream",
     "text": [
      "=========test data============ :\n",
      "=>Accuracy Score 0.9034433794817182\n",
      "=>Confusion Matrix :\n",
      "[[2358   30]\n",
      " [ 242  187]]\n",
      "=>Classification Report :\n",
      "              precision    recall  f1-score   support\n",
      "\n",
      "           0       0.91      0.99      0.95      2388\n",
      "           1       0.86      0.44      0.58       429\n",
      "\n",
      "    accuracy                           0.90      2817\n",
      "   macro avg       0.88      0.71      0.76      2817\n",
      "weighted avg       0.90      0.90      0.89      2817\n",
      "\n"
     ]
    }
   ],
   "source": [
    "accuracy_report(y_test, y_pred)"
   ]
  },
  {
   "cell_type": "code",
   "execution_count": 14,
   "metadata": {},
   "outputs": [
    {
     "data": {
      "text/plain": [
       "0.9006674525577527"
      ]
     },
     "execution_count": 14,
     "metadata": {},
     "output_type": "execute_result"
    }
   ],
   "source": [
    "scores = cross_val_score(model, X_std, y, cv=10)\n",
    "scores.mean()"
   ]
  },
  {
   "cell_type": "markdown",
   "metadata": {},
   "source": [
    "## Trying Logistic Regression with balanced dataset\n",
    "\n",
    "Imbalanced classes put “accuracy” out of business. This is a surprisingly common problem in machine learning (specifically in classification), occurring in datasets with a disproportionate ratio of observations in each class.\n",
    "\n",
    "Standard accuracy no longer reliably measures performance, which makes model training much trickier.\n",
    "\n",
    "In our case we have `11847` clients who left the app and only `2237` clients who conveert again. That means if we predict that all the client have left the app we'll have an accuracy of `84.11%` ???."
   ]
  },
  {
   "cell_type": "code",
   "execution_count": 29,
   "metadata": {},
   "outputs": [
    {
     "data": {
      "text/plain": [
       "0.8411672820221529"
      ]
     },
     "execution_count": 29,
     "metadata": {},
     "output_type": "execute_result"
    }
   ],
   "source": [
    "11847 / (11847 + 2237)"
   ]
  },
  {
   "cell_type": "markdown",
   "metadata": {},
   "source": [
    "### 1. Up-sample Minority Class\n",
    "\n",
    "Up-sampling is the process of randomly duplicating observations from the minority class in order to reinforce its signal.\n",
    "\n",
    "There are several heuristics for doing so, but the most common way is to simply resample with replacement."
   ]
  },
  {
   "cell_type": "code",
   "execution_count": 15,
   "metadata": {},
   "outputs": [
    {
     "data": {
      "text/plain": [
       "1    11847\n",
       "0    11847\n",
       "Name: Target, dtype: int64"
      ]
     },
     "execution_count": 15,
     "metadata": {},
     "output_type": "execute_result"
    }
   ],
   "source": [
    "from sklearn.utils import resample\n",
    "\n",
    "# Separate majority and minority classes\n",
    "df_majority = data[data.Target==0]\n",
    "df_minority = data[data.Target==1]\n",
    " \n",
    "# Upsample minority class\n",
    "df_minority_upsampled = resample(df_minority, \n",
    "                                 replace=True,     # sample with replacement\n",
    "                                 n_samples=11847,    # to match majority class\n",
    "                                 random_state=123) # reproducible results\n",
    " \n",
    "# Combine majority class with upsampled minority class\n",
    "df_upsampled = pd.concat([df_majority, df_minority_upsampled])\n",
    " \n",
    "X = df_upsampled.drop('Target', axis=1)\n",
    "y = df_upsampled.Target\n",
    "# Display new class counts\n",
    "df_upsampled.Target.value_counts()"
   ]
  },
  {
   "cell_type": "code",
   "execution_count": 16,
   "metadata": {},
   "outputs": [],
   "source": [
    "x_sc = StandardScaler()\n",
    "X_std = x_sc.fit_transform(X)\n",
    "\n",
    "X_train, X_test, y_train, y_test = train_test_split(X_std, y, test_size=0.2, random_state=42)\n",
    "\n",
    "model = LogisticRegression(solver='liblinear', max_iter=1000)\n",
    "model.fit(X_train, y_train)\n",
    "\n",
    "y_pred = model.predict(X_test)"
   ]
  },
  {
   "cell_type": "code",
   "execution_count": 17,
   "metadata": {},
   "outputs": [
    {
     "name": "stdout",
     "output_type": "stream",
     "text": [
      "=========test data============ :\n",
      "=>Accuracy Score 0.7963705423085039\n",
      "=>Confusion Matrix :\n",
      "[[2128  256]\n",
      " [ 709 1646]]\n",
      "=>Classification Report :\n",
      "              precision    recall  f1-score   support\n",
      "\n",
      "           0       0.75      0.89      0.82      2384\n",
      "           1       0.87      0.70      0.77      2355\n",
      "\n",
      "    accuracy                           0.80      4739\n",
      "   macro avg       0.81      0.80      0.79      4739\n",
      "weighted avg       0.81      0.80      0.79      4739\n",
      "\n"
     ]
    }
   ],
   "source": [
    "accuracy_report(y_test, y_pred)"
   ]
  },
  {
   "cell_type": "markdown",
   "metadata": {},
   "source": [
    "Great, now the model is no longer predicting just one class. While the accuracy also took a nosedive, it's now more meaningful as a performance metric."
   ]
  },
  {
   "cell_type": "markdown",
   "metadata": {},
   "source": [
    "### 2. Down-sample Majority Class\n",
    "\n",
    "Down-sampling involves randomly removing observations from the majority class to prevent its signal from dominating the learning algorithm.\n",
    "\n",
    "The most common heuristic for doing so is resampling without replacement."
   ]
  },
  {
   "cell_type": "code",
   "execution_count": 30,
   "metadata": {},
   "outputs": [
    {
     "data": {
      "text/plain": [
       "1    2237\n",
       "0    2237\n",
       "Name: Target, dtype: int64"
      ]
     },
     "execution_count": 30,
     "metadata": {},
     "output_type": "execute_result"
    }
   ],
   "source": [
    "# Separate majority and minority classes\n",
    "df_majority = data[data.Target==0]\n",
    "df_minority = data[data.Target==1]\n",
    " \n",
    "# Down-sample majority class\n",
    "df_majority_downsample = resample(df_majority, replace=False,     # sample with replacement\n",
    "                                  n_samples=2237,    # to match minority class\n",
    "                                  random_state=123) # reproducible results\n",
    " \n",
    "# Combine majority class with Down-sample majority class\n",
    "df_upsampled = pd.concat([df_majority_downsample, df_minority])\n",
    " \n",
    "X = df_upsampled.drop('Target', axis=1)\n",
    "y = df_upsampled.Target\n",
    "# Display new class counts\n",
    "df_upsampled.Target.value_counts()"
   ]
  },
  {
   "cell_type": "code",
   "execution_count": 31,
   "metadata": {},
   "outputs": [],
   "source": [
    "x_sc = StandardScaler()\n",
    "X_std = x_sc.fit_transform(X)\n",
    "\n",
    "X_train, X_test, y_train, y_test = train_test_split(X_std, y, test_size=0.2, random_state=42)\n",
    "\n",
    "model = LogisticRegression(solver='liblinear', max_iter=1000)\n",
    "model.fit(X_train, y_train)\n",
    "\n",
    "y_pred = model.predict(X_test)"
   ]
  },
  {
   "cell_type": "code",
   "execution_count": 32,
   "metadata": {},
   "outputs": [
    {
     "name": "stdout",
     "output_type": "stream",
     "text": [
      "=========test data============ :\n",
      "=>Accuracy Score 0.8055865921787709\n",
      "=>Confusion Matrix :\n",
      "[[404  55]\n",
      " [119 317]]\n",
      "=>Classification Report :\n",
      "              precision    recall  f1-score   support\n",
      "\n",
      "           0       0.77      0.88      0.82       459\n",
      "           1       0.85      0.73      0.78       436\n",
      "\n",
      "    accuracy                           0.81       895\n",
      "   macro avg       0.81      0.80      0.80       895\n",
      "weighted avg       0.81      0.81      0.80       895\n",
      "\n"
     ]
    }
   ],
   "source": [
    "accuracy_report(y_test, y_pred)"
   ]
  },
  {
   "cell_type": "markdown",
   "metadata": {},
   "source": [
    "### 3. Change Your Performance Metric\n",
    "\n",
    "So far, we've looked at two ways of addressing imbalanced classes by resampling the dataset. Next, we'll look at using other performance metrics for evaluating the models.\n",
    "\n",
    "Albert Einstein once said, \"if you judge a fish on its ability to climb a tree, it will live its whole life believing that it is stupid.\" This quote really highlights the importance of choosing the right evaluation metric.\n",
    "\n",
    "other performance metrics to consider are `confusion_matrix`, `precision`, `recall`, and `f1-score`."
   ]
  },
  {
   "cell_type": "markdown",
   "metadata": {},
   "source": [
    "### 4. Use Tree-Based Algorithms\n",
    "\n",
    "The final tactic we'll consider is using tree-based algorithms. Decision trees often perform well on imbalanced datasets because their hierarchical structure allows them to learn signals from both classes.\n",
    "\n",
    "In modern applied machine learning, tree ensembles (Random Forests, Gradient Boosted Trees, etc.) almost always outperform singular decision trees."
   ]
  },
  {
   "cell_type": "code",
   "execution_count": 46,
   "metadata": {},
   "outputs": [
    {
     "name": "stdout",
     "output_type": "stream",
     "text": [
      "Fitting 3 folds for each of 72 candidates, totalling 216 fits\n"
     ]
    },
    {
     "name": "stderr",
     "output_type": "stream",
     "text": [
      "[Parallel(n_jobs=-1)]: Using backend LokyBackend with 4 concurrent workers.\n",
      "[Parallel(n_jobs=-1)]: Done  42 tasks      | elapsed:   14.3s\n",
      "[Parallel(n_jobs=-1)]: Done 192 tasks      | elapsed:  1.0min\n",
      "[Parallel(n_jobs=-1)]: Done 216 out of 216 | elapsed:  1.2min finished\n"
     ]
    }
   ],
   "source": [
    "from sklearn.ensemble import RandomForestClassifier\n",
    "from sklearn.model_selection import GridSearchCV\n",
    "\n",
    "X = data_1.drop('Target', axis=1)\n",
    "y = data_1.Target\n",
    "\n",
    "X_train, X_test, y_train, y_test = train_test_split(X, y, test_size=0.2, random_state=42)\n",
    "\n",
    "model = RandomForestClassifier(n_estimators=100, random_state=42)\n",
    "\n",
    "param_grid = {'max_depth':[3, None], 'min_samples_split':[2, 3, 10], \n",
    "              'min_samples_leaf':[1, 3, 10], 'bootstrap':[True, False], \n",
    "              'criterion':[\"gini\", \"entropy\"]}\n",
    "\n",
    "random_forest_grid = GridSearchCV(model, param_grid, scoring=\"accuracy\", \n",
    "                                  n_jobs=-1, verbose=1, cv=3, iid=True)\n",
    "\n",
    "random_forest_grid.fit(X_train, y_train)\n",
    "\n",
    "y_train_pred = random_forest_grid.predict(X_train)\n",
    "y_test_pred = random_forest_grid.predict(X_test)"
   ]
  },
  {
   "cell_type": "code",
   "execution_count": 44,
   "metadata": {},
   "outputs": [
    {
     "name": "stdout",
     "output_type": "stream",
     "text": [
      "=========test data============ :\n",
      "=>Accuracy Score 0.8067039106145252\n",
      "=>Confusion Matrix :\n",
      "[[385  74]\n",
      " [ 99 337]]\n",
      "=>Classification Report :\n",
      "              precision    recall  f1-score   support\n",
      "\n",
      "           0       0.80      0.84      0.82       459\n",
      "           1       0.82      0.77      0.80       436\n",
      "\n",
      "    accuracy                           0.81       895\n",
      "   macro avg       0.81      0.81      0.81       895\n",
      "weighted avg       0.81      0.81      0.81       895\n",
      "\n"
     ]
    }
   ],
   "source": [
    "accuracy_report(y_test, y_test_pred)"
   ]
  },
  {
   "cell_type": "code",
   "execution_count": 45,
   "metadata": {},
   "outputs": [
    {
     "name": "stdout",
     "output_type": "stream",
     "text": [
      "=========test data============ :\n",
      "=>Accuracy Score 0.8477228276054763\n",
      "=>Confusion Matrix :\n",
      "[[1561  217]\n",
      " [ 328 1473]]\n",
      "=>Classification Report :\n",
      "              precision    recall  f1-score   support\n",
      "\n",
      "           0       0.83      0.88      0.85      1778\n",
      "           1       0.87      0.82      0.84      1801\n",
      "\n",
      "    accuracy                           0.85      3579\n",
      "   macro avg       0.85      0.85      0.85      3579\n",
      "weighted avg       0.85      0.85      0.85      3579\n",
      "\n"
     ]
    }
   ],
   "source": [
    "accuracy_report(y_train, y_train_pred)"
   ]
  }
 ],
 "metadata": {
  "kernelspec": {
   "display_name": "Python 3",
   "language": "python",
   "name": "python3"
  },
  "language_info": {
   "codemirror_mode": {
    "name": "ipython",
    "version": 3
   },
   "file_extension": ".py",
   "mimetype": "text/x-python",
   "name": "python",
   "nbconvert_exporter": "python",
   "pygments_lexer": "ipython3",
   "version": "3.7.0"
  }
 },
 "nbformat": 4,
 "nbformat_minor": 4
}
