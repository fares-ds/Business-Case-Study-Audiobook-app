{
 "cells": [
  {
   "cell_type": "markdown",
   "metadata": {},
   "source": [
    "# Business Case Study: Audiobook app\n",
    "\n",
    "- The data is from an audiobook app, each customer in the database has make a purchase at least once.\n",
    "- The main idea is that the company shouldn't spend there money targeting individuals who are unlikely to come back.\n",
    "- If we focus on client who are more likely to convert again we'll get increase the sales and profitability figures.\n",
    "\n",
    "The model must show us which are the most important metrics for a client to come back."
   ]
  },
  {
   "cell_type": "code",
   "execution_count": 1,
   "metadata": {},
   "outputs": [],
   "source": [
    "import pandas as pd\n",
    "import numpy as np\n",
    "\n",
    "import matplotlib.pyplot as plt\n",
    "import seaborn as sns\n",
    "\n",
    "%matplotlib inline\n",
    "sns.set_style(\"whitegrid\")"
   ]
  },
  {
   "cell_type": "code",
   "execution_count": 2,
   "metadata": {},
   "outputs": [
    {
     "data": {
      "text/html": [
       "<div>\n",
       "<style scoped>\n",
       "    .dataframe tbody tr th:only-of-type {\n",
       "        vertical-align: middle;\n",
       "    }\n",
       "\n",
       "    .dataframe tbody tr th {\n",
       "        vertical-align: top;\n",
       "    }\n",
       "\n",
       "    .dataframe thead th {\n",
       "        text-align: right;\n",
       "    }\n",
       "</style>\n",
       "<table border=\"1\" class=\"dataframe\">\n",
       "  <thead>\n",
       "    <tr style=\"text-align: right;\">\n",
       "      <th></th>\n",
       "      <th>Book_length(mins)_overall</th>\n",
       "      <th>Book_length(mins)_avg</th>\n",
       "      <th>Price_overall</th>\n",
       "      <th>Price_avg</th>\n",
       "      <th>Review</th>\n",
       "      <th>Review10/10</th>\n",
       "      <th>Completion</th>\n",
       "      <th>Minutes_listened</th>\n",
       "      <th>Support_Request</th>\n",
       "      <th>Last_Visited_mins_Purchase_date</th>\n",
       "      <th>Target</th>\n",
       "    </tr>\n",
       "  </thead>\n",
       "  <tbody>\n",
       "    <tr>\n",
       "      <th>994</th>\n",
       "      <td>1620.0</td>\n",
       "      <td>1620</td>\n",
       "      <td>19.73</td>\n",
       "      <td>19.73</td>\n",
       "      <td>1</td>\n",
       "      <td>10.00</td>\n",
       "      <td>0.99</td>\n",
       "      <td>1603.8</td>\n",
       "      <td>5</td>\n",
       "      <td>92</td>\n",
       "      <td>0</td>\n",
       "    </tr>\n",
       "    <tr>\n",
       "      <th>1143</th>\n",
       "      <td>2160.0</td>\n",
       "      <td>2160</td>\n",
       "      <td>5.33</td>\n",
       "      <td>5.33</td>\n",
       "      <td>0</td>\n",
       "      <td>8.91</td>\n",
       "      <td>0.00</td>\n",
       "      <td>0.0</td>\n",
       "      <td>0</td>\n",
       "      <td>0</td>\n",
       "      <td>0</td>\n",
       "    </tr>\n",
       "    <tr>\n",
       "      <th>2059</th>\n",
       "      <td>2160.0</td>\n",
       "      <td>2160</td>\n",
       "      <td>5.33</td>\n",
       "      <td>5.33</td>\n",
       "      <td>0</td>\n",
       "      <td>8.91</td>\n",
       "      <td>0.00</td>\n",
       "      <td>0.0</td>\n",
       "      <td>0</td>\n",
       "      <td>388</td>\n",
       "      <td>0</td>\n",
       "    </tr>\n",
       "    <tr>\n",
       "      <th>2882</th>\n",
       "      <td>1620.0</td>\n",
       "      <td>1620</td>\n",
       "      <td>5.96</td>\n",
       "      <td>5.96</td>\n",
       "      <td>0</td>\n",
       "      <td>8.91</td>\n",
       "      <td>0.42</td>\n",
       "      <td>680.4</td>\n",
       "      <td>1</td>\n",
       "      <td>129</td>\n",
       "      <td>0</td>\n",
       "    </tr>\n",
       "    <tr>\n",
       "      <th>3342</th>\n",
       "      <td>2160.0</td>\n",
       "      <td>2160</td>\n",
       "      <td>5.33</td>\n",
       "      <td>5.33</td>\n",
       "      <td>0</td>\n",
       "      <td>8.91</td>\n",
       "      <td>0.22</td>\n",
       "      <td>475.2</td>\n",
       "      <td>0</td>\n",
       "      <td>361</td>\n",
       "      <td>0</td>\n",
       "    </tr>\n",
       "  </tbody>\n",
       "</table>\n",
       "</div>"
      ],
      "text/plain": [
       "      Book_length(mins)_overall  Book_length(mins)_avg  Price_overall  \\\n",
       "994                      1620.0                   1620          19.73   \n",
       "1143                     2160.0                   2160           5.33   \n",
       "2059                     2160.0                   2160           5.33   \n",
       "2882                     1620.0                   1620           5.96   \n",
       "3342                     2160.0                   2160           5.33   \n",
       "\n",
       "      Price_avg  Review  Review10/10  Completion  Minutes_listened  \\\n",
       "994       19.73       1        10.00        0.99            1603.8   \n",
       "1143       5.33       0         8.91        0.00               0.0   \n",
       "2059       5.33       0         8.91        0.00               0.0   \n",
       "2882       5.96       0         8.91        0.42             680.4   \n",
       "3342       5.33       0         8.91        0.22             475.2   \n",
       "\n",
       "      Support_Request  Last_Visited_mins_Purchase_date  Target  \n",
       "994                 5                               92       0  \n",
       "1143                0                                0       0  \n",
       "2059                0                              388       0  \n",
       "2882                1                              129       0  \n",
       "3342                0                              361       0  "
      ]
     },
     "execution_count": 2,
     "metadata": {},
     "output_type": "execute_result"
    }
   ],
   "source": [
    "columns = [\"ID\", \"Book_length(mins)_overall\", \"Book_length(mins)_avg\", \"Price_overall\", \"Price_avg\", \n",
    "         \"Review\", \"Review10/10\", \"Completion\", \"Minutes_listened\", \"Support_Request\", \"Last_Visited_mins_Purchase_date\", \n",
    "         \"Target\"]\n",
    "data = pd.read_csv(\"data/Audiobooks_data.csv\", header=None)\n",
    "data.columns = columns\n",
    "data.set_index('ID', drop=True, inplace=True)\n",
    "data.index.name =None\n",
    "data.head()"
   ]
  },
  {
   "cell_type": "markdown",
   "metadata": {},
   "source": [
    "# 1. Getting aquainted with the dataset\n",
    "\n",
    "- `ÌD`: is like a name.\n",
    "\n",
    "- `Book_length(mins)_overall`: is the sum of the lengths of purchases.\n",
    "\n",
    "- `Book_length(mins)_avg`: is the sum of the lengths of purchases divided by the number of purchases. Notice we don't need the number of purchases column because we ca get it from `Book_length(mins)_overall` / `Book_length(mins)_avg`.\n",
    "\n",
    "- `Price_overall` & `Price_avg`: Same as Book length, the price variable is almost always a good predictor.\n",
    "\n",
    "- `Review`: is boolean. It shows if the customer left a review. If so, `Review10/10` saves the review left by the user. While most users don't left a review we fill the missing reviews by avrage review column.\n",
    "\n",
    "- `Minutes_listened`: is a measure of engagement, the total of minutes the user listen to audiobooks.\n",
    "\n",
    "- `Completion`: is the `Minutes_listened` / `Book_length(mins)_overall`.\n",
    "\n",
    "- `Support_Request`: Shows the total number of support request (forgotten password to assistance).\n",
    "\n",
    "- `Last_Visited_mins_Purchase_date`: the bigger the difference, the bigger sooner the engagement. If the value is 0, we are sure the customer has never accessed what he/she has bought.\n",
    "\n",
    "The data was gathered from the audiobook app, the input data represents `2 years` worth of engagement. We are doing supervised learning so we need `target`. We took extra `6 month` to check if the user converted or not. 1 if the customer buys in the next 6 months, 0 if the customer didn't.\n",
    "\n",
    "- `target`: 1 if the customer bought again in the last 6 months of data. 0 if the customer did not buy again."
   ]
  },
  {
   "cell_type": "code",
   "execution_count": 3,
   "metadata": {},
   "outputs": [
    {
     "data": {
      "text/html": [
       "<div>\n",
       "<style scoped>\n",
       "    .dataframe tbody tr th:only-of-type {\n",
       "        vertical-align: middle;\n",
       "    }\n",
       "\n",
       "    .dataframe tbody tr th {\n",
       "        vertical-align: top;\n",
       "    }\n",
       "\n",
       "    .dataframe thead th {\n",
       "        text-align: right;\n",
       "    }\n",
       "</style>\n",
       "<table border=\"1\" class=\"dataframe\">\n",
       "  <thead>\n",
       "    <tr style=\"text-align: right;\">\n",
       "      <th></th>\n",
       "      <th>Book_length(mins)_overall</th>\n",
       "      <th>Book_length(mins)_avg</th>\n",
       "      <th>Price_overall</th>\n",
       "      <th>Price_avg</th>\n",
       "      <th>Review</th>\n",
       "      <th>Review10/10</th>\n",
       "      <th>Completion</th>\n",
       "      <th>Minutes_listened</th>\n",
       "      <th>Support_Request</th>\n",
       "      <th>Last_Visited_mins_Purchase_date</th>\n",
       "      <th>Target</th>\n",
       "    </tr>\n",
       "  </thead>\n",
       "  <tbody>\n",
       "    <tr>\n",
       "      <th>count</th>\n",
       "      <td>14084.00</td>\n",
       "      <td>14084.00</td>\n",
       "      <td>14084.00</td>\n",
       "      <td>14084.00</td>\n",
       "      <td>14084.00</td>\n",
       "      <td>14084.00</td>\n",
       "      <td>14084.00</td>\n",
       "      <td>14084.00</td>\n",
       "      <td>14084.00</td>\n",
       "      <td>14084.00</td>\n",
       "      <td>14084.00</td>\n",
       "    </tr>\n",
       "    <tr>\n",
       "      <th>mean</th>\n",
       "      <td>1591.28</td>\n",
       "      <td>1678.61</td>\n",
       "      <td>7.10</td>\n",
       "      <td>7.54</td>\n",
       "      <td>0.16</td>\n",
       "      <td>8.91</td>\n",
       "      <td>0.13</td>\n",
       "      <td>189.89</td>\n",
       "      <td>0.07</td>\n",
       "      <td>61.94</td>\n",
       "      <td>0.16</td>\n",
       "    </tr>\n",
       "    <tr>\n",
       "      <th>std</th>\n",
       "      <td>504.34</td>\n",
       "      <td>654.84</td>\n",
       "      <td>4.93</td>\n",
       "      <td>5.56</td>\n",
       "      <td>0.37</td>\n",
       "      <td>0.64</td>\n",
       "      <td>0.24</td>\n",
       "      <td>371.08</td>\n",
       "      <td>0.47</td>\n",
       "      <td>88.21</td>\n",
       "      <td>0.37</td>\n",
       "    </tr>\n",
       "    <tr>\n",
       "      <th>min</th>\n",
       "      <td>216.00</td>\n",
       "      <td>216.00</td>\n",
       "      <td>3.86</td>\n",
       "      <td>3.86</td>\n",
       "      <td>0.00</td>\n",
       "      <td>1.00</td>\n",
       "      <td>0.00</td>\n",
       "      <td>0.00</td>\n",
       "      <td>0.00</td>\n",
       "      <td>0.00</td>\n",
       "      <td>0.00</td>\n",
       "    </tr>\n",
       "    <tr>\n",
       "      <th>25%</th>\n",
       "      <td>1188.00</td>\n",
       "      <td>1188.00</td>\n",
       "      <td>5.33</td>\n",
       "      <td>5.33</td>\n",
       "      <td>0.00</td>\n",
       "      <td>8.91</td>\n",
       "      <td>0.00</td>\n",
       "      <td>0.00</td>\n",
       "      <td>0.00</td>\n",
       "      <td>0.00</td>\n",
       "      <td>0.00</td>\n",
       "    </tr>\n",
       "    <tr>\n",
       "      <th>50%</th>\n",
       "      <td>1620.00</td>\n",
       "      <td>1620.00</td>\n",
       "      <td>5.95</td>\n",
       "      <td>6.07</td>\n",
       "      <td>0.00</td>\n",
       "      <td>8.91</td>\n",
       "      <td>0.00</td>\n",
       "      <td>0.00</td>\n",
       "      <td>0.00</td>\n",
       "      <td>11.00</td>\n",
       "      <td>0.00</td>\n",
       "    </tr>\n",
       "    <tr>\n",
       "      <th>75%</th>\n",
       "      <td>2160.00</td>\n",
       "      <td>2160.00</td>\n",
       "      <td>8.00</td>\n",
       "      <td>8.00</td>\n",
       "      <td>0.00</td>\n",
       "      <td>8.91</td>\n",
       "      <td>0.13</td>\n",
       "      <td>194.40</td>\n",
       "      <td>0.00</td>\n",
       "      <td>105.00</td>\n",
       "      <td>0.00</td>\n",
       "    </tr>\n",
       "    <tr>\n",
       "      <th>max</th>\n",
       "      <td>2160.00</td>\n",
       "      <td>7020.00</td>\n",
       "      <td>130.94</td>\n",
       "      <td>130.94</td>\n",
       "      <td>1.00</td>\n",
       "      <td>10.00</td>\n",
       "      <td>1.00</td>\n",
       "      <td>2160.00</td>\n",
       "      <td>30.00</td>\n",
       "      <td>464.00</td>\n",
       "      <td>1.00</td>\n",
       "    </tr>\n",
       "  </tbody>\n",
       "</table>\n",
       "</div>"
      ],
      "text/plain": [
       "       Book_length(mins)_overall  Book_length(mins)_avg  Price_overall  \\\n",
       "count                   14084.00               14084.00       14084.00   \n",
       "mean                     1591.28                1678.61           7.10   \n",
       "std                       504.34                 654.84           4.93   \n",
       "min                       216.00                 216.00           3.86   \n",
       "25%                      1188.00                1188.00           5.33   \n",
       "50%                      1620.00                1620.00           5.95   \n",
       "75%                      2160.00                2160.00           8.00   \n",
       "max                      2160.00                7020.00         130.94   \n",
       "\n",
       "       Price_avg   Review  Review10/10  Completion  Minutes_listened  \\\n",
       "count   14084.00 14084.00     14084.00    14084.00          14084.00   \n",
       "mean        7.54     0.16         8.91        0.13            189.89   \n",
       "std         5.56     0.37         0.64        0.24            371.08   \n",
       "min         3.86     0.00         1.00        0.00              0.00   \n",
       "25%         5.33     0.00         8.91        0.00              0.00   \n",
       "50%         6.07     0.00         8.91        0.00              0.00   \n",
       "75%         8.00     0.00         8.91        0.13            194.40   \n",
       "max       130.94     1.00        10.00        1.00           2160.00   \n",
       "\n",
       "       Support_Request  Last_Visited_mins_Purchase_date   Target  \n",
       "count         14084.00                         14084.00 14084.00  \n",
       "mean              0.07                            61.94     0.16  \n",
       "std               0.47                            88.21     0.37  \n",
       "min               0.00                             0.00     0.00  \n",
       "25%               0.00                             0.00     0.00  \n",
       "50%               0.00                            11.00     0.00  \n",
       "75%               0.00                           105.00     0.00  \n",
       "max              30.00                           464.00     1.00  "
      ]
     },
     "execution_count": 3,
     "metadata": {},
     "output_type": "execute_result"
    }
   ],
   "source": [
    "pd.set_option(\"display.float_format\", \"{:.2f}\".format)\n",
    "data.describe()"
   ]
  },
  {
   "cell_type": "code",
   "execution_count": 4,
   "metadata": {},
   "outputs": [
    {
     "data": {
      "text/plain": [
       "Book_length(mins)_overall          0\n",
       "Book_length(mins)_avg              0\n",
       "Price_overall                      0\n",
       "Price_avg                          0\n",
       "Review                             0\n",
       "Review10/10                        0\n",
       "Completion                         0\n",
       "Minutes_listened                   0\n",
       "Support_Request                    0\n",
       "Last_Visited_mins_Purchase_date    0\n",
       "Target                             0\n",
       "dtype: int64"
      ]
     },
     "execution_count": 4,
     "metadata": {},
     "output_type": "execute_result"
    }
   ],
   "source": [
    "data.isnull().sum()"
   ]
  },
  {
   "cell_type": "markdown",
   "metadata": {},
   "source": [
    "# 2. Exploratory Data Analysis"
   ]
  },
  {
   "cell_type": "code",
   "execution_count": 5,
   "metadata": {},
   "outputs": [
    {
     "name": "stdout",
     "output_type": "stream",
     "text": [
      "<class 'pandas.core.frame.DataFrame'>\n",
      "Int64Index: 14084 entries, 994 to 251\n",
      "Data columns (total 11 columns):\n",
      "Book_length(mins)_overall          14084 non-null float64\n",
      "Book_length(mins)_avg              14084 non-null int64\n",
      "Price_overall                      14084 non-null float64\n",
      "Price_avg                          14084 non-null float64\n",
      "Review                             14084 non-null int64\n",
      "Review10/10                        14084 non-null float64\n",
      "Completion                         14084 non-null float64\n",
      "Minutes_listened                   14084 non-null float64\n",
      "Support_Request                    14084 non-null int64\n",
      "Last_Visited_mins_Purchase_date    14084 non-null int64\n",
      "Target                             14084 non-null int64\n",
      "dtypes: float64(6), int64(5)\n",
      "memory usage: 1.3 MB\n"
     ]
    }
   ],
   "source": [
    "data.info()"
   ]
  },
  {
   "cell_type": "code",
   "execution_count": 6,
   "metadata": {},
   "outputs": [
    {
     "data": {
      "image/png": "[encoded data removed]",
      "text/plain": [
       "<Figure size 1440x1440 with 12 Axes>"
      ]
     },
     "metadata": {
      "needs_background": "light"
     },
     "output_type": "display_data"
    }
   ],
   "source": [
    "# Visulazing the distibution of the data for every feature\n",
    "data.hist(edgecolor='black', linewidth=1.2, figsize=(20, 20));"
   ]
  },
  {
   "cell_type": "code",
   "execution_count": 7,
   "metadata": {},
   "outputs": [
    {
     "name": "stdout",
     "output_type": "stream",
     "text": [
      "0    11847\n",
      "1     2237\n",
      "Name: Target, dtype: int64\n",
      "5.295932051855163\n"
     ]
    }
   ],
   "source": [
    "print(f\"{data.Target.value_counts()}\")\n",
    "print(f\"{data.Target.value_counts()[0] / data.Target.value_counts()[1]}\")"
   ]
  },
  {
   "cell_type": "markdown",
   "metadata": {},
   "source": [
    "It is important to notice that our `target` variable is inbabalanced. We have only `2237` user who convert again in the `6 month` period. The data need to be balanced."
   ]
  },
  {
   "cell_type": "code",
   "execution_count": 8,
   "metadata": {},
   "outputs": [
    {
     "data": {
      "text/plain": [
       "11"
      ]
     },
     "execution_count": 8,
     "metadata": {},
     "output_type": "execute_result"
    }
   ],
   "source": [
    "len(list(data.columns))"
   ]
  },
  {
   "cell_type": "markdown",
   "metadata": {},
   "source": [
    "# 3. Data Pre-processing\n",
    "\n",
    "- a) Balance the dataset. \n",
    "\n",
    "Since we are dealing with real life data, we will need to preprocess it a bit. This is the relevant code which is not that hard but refers to data engineering more than machine learning.\n",
    "\n",
    "- b) Divide the dataset in training, validation, and test."
   ]
  },
  {
   "cell_type": "code",
   "execution_count": 9,
   "metadata": {},
   "outputs": [
    {
     "data": {
      "text/html": [
       "<div>\n",
       "<style scoped>\n",
       "    .dataframe tbody tr th:only-of-type {\n",
       "        vertical-align: middle;\n",
       "    }\n",
       "\n",
       "    .dataframe tbody tr th {\n",
       "        vertical-align: top;\n",
       "    }\n",
       "\n",
       "    .dataframe thead th {\n",
       "        text-align: right;\n",
       "    }\n",
       "</style>\n",
       "<table border=\"1\" class=\"dataframe\">\n",
       "  <thead>\n",
       "    <tr style=\"text-align: right;\">\n",
       "      <th></th>\n",
       "      <th>Book_length(mins)_overall</th>\n",
       "      <th>Book_length(mins)_avg</th>\n",
       "      <th>Price_overall</th>\n",
       "      <th>Price_avg</th>\n",
       "      <th>Review10/10</th>\n",
       "      <th>Completion</th>\n",
       "      <th>Minutes_listened</th>\n",
       "      <th>Last_Visited_mins_Purchase_date</th>\n",
       "      <th>Target</th>\n",
       "      <th>Support_Request_0</th>\n",
       "      <th>...</th>\n",
       "      <th>Support_Request_4</th>\n",
       "      <th>Support_Request_5</th>\n",
       "      <th>Support_Request_6</th>\n",
       "      <th>Support_Request_7</th>\n",
       "      <th>Support_Request_8</th>\n",
       "      <th>Support_Request_10</th>\n",
       "      <th>Support_Request_12</th>\n",
       "      <th>Support_Request_30</th>\n",
       "      <th>Review_0</th>\n",
       "      <th>Review_1</th>\n",
       "    </tr>\n",
       "  </thead>\n",
       "  <tbody>\n",
       "    <tr>\n",
       "      <th>994</th>\n",
       "      <td>1620.00</td>\n",
       "      <td>1620</td>\n",
       "      <td>19.73</td>\n",
       "      <td>19.73</td>\n",
       "      <td>10.00</td>\n",
       "      <td>0.99</td>\n",
       "      <td>1603.80</td>\n",
       "      <td>92</td>\n",
       "      <td>0</td>\n",
       "      <td>0</td>\n",
       "      <td>...</td>\n",
       "      <td>0</td>\n",
       "      <td>1</td>\n",
       "      <td>0</td>\n",
       "      <td>0</td>\n",
       "      <td>0</td>\n",
       "      <td>0</td>\n",
       "      <td>0</td>\n",
       "      <td>0</td>\n",
       "      <td>0</td>\n",
       "      <td>1</td>\n",
       "    </tr>\n",
       "    <tr>\n",
       "      <th>1143</th>\n",
       "      <td>2160.00</td>\n",
       "      <td>2160</td>\n",
       "      <td>5.33</td>\n",
       "      <td>5.33</td>\n",
       "      <td>8.91</td>\n",
       "      <td>0.00</td>\n",
       "      <td>0.00</td>\n",
       "      <td>0</td>\n",
       "      <td>0</td>\n",
       "      <td>1</td>\n",
       "      <td>...</td>\n",
       "      <td>0</td>\n",
       "      <td>0</td>\n",
       "      <td>0</td>\n",
       "      <td>0</td>\n",
       "      <td>0</td>\n",
       "      <td>0</td>\n",
       "      <td>0</td>\n",
       "      <td>0</td>\n",
       "      <td>1</td>\n",
       "      <td>0</td>\n",
       "    </tr>\n",
       "    <tr>\n",
       "      <th>2059</th>\n",
       "      <td>2160.00</td>\n",
       "      <td>2160</td>\n",
       "      <td>5.33</td>\n",
       "      <td>5.33</td>\n",
       "      <td>8.91</td>\n",
       "      <td>0.00</td>\n",
       "      <td>0.00</td>\n",
       "      <td>388</td>\n",
       "      <td>0</td>\n",
       "      <td>1</td>\n",
       "      <td>...</td>\n",
       "      <td>0</td>\n",
       "      <td>0</td>\n",
       "      <td>0</td>\n",
       "      <td>0</td>\n",
       "      <td>0</td>\n",
       "      <td>0</td>\n",
       "      <td>0</td>\n",
       "      <td>0</td>\n",
       "      <td>1</td>\n",
       "      <td>0</td>\n",
       "    </tr>\n",
       "    <tr>\n",
       "      <th>2882</th>\n",
       "      <td>1620.00</td>\n",
       "      <td>1620</td>\n",
       "      <td>5.96</td>\n",
       "      <td>5.96</td>\n",
       "      <td>8.91</td>\n",
       "      <td>0.42</td>\n",
       "      <td>680.40</td>\n",
       "      <td>129</td>\n",
       "      <td>0</td>\n",
       "      <td>0</td>\n",
       "      <td>...</td>\n",
       "      <td>0</td>\n",
       "      <td>0</td>\n",
       "      <td>0</td>\n",
       "      <td>0</td>\n",
       "      <td>0</td>\n",
       "      <td>0</td>\n",
       "      <td>0</td>\n",
       "      <td>0</td>\n",
       "      <td>1</td>\n",
       "      <td>0</td>\n",
       "    </tr>\n",
       "    <tr>\n",
       "      <th>3342</th>\n",
       "      <td>2160.00</td>\n",
       "      <td>2160</td>\n",
       "      <td>5.33</td>\n",
       "      <td>5.33</td>\n",
       "      <td>8.91</td>\n",
       "      <td>0.22</td>\n",
       "      <td>475.20</td>\n",
       "      <td>361</td>\n",
       "      <td>0</td>\n",
       "      <td>1</td>\n",
       "      <td>...</td>\n",
       "      <td>0</td>\n",
       "      <td>0</td>\n",
       "      <td>0</td>\n",
       "      <td>0</td>\n",
       "      <td>0</td>\n",
       "      <td>0</td>\n",
       "      <td>0</td>\n",
       "      <td>0</td>\n",
       "      <td>1</td>\n",
       "      <td>0</td>\n",
       "    </tr>\n",
       "  </tbody>\n",
       "</table>\n",
       "<p>5 rows × 23 columns</p>\n",
       "</div>"
      ],
      "text/plain": [
       "      Book_length(mins)_overall  Book_length(mins)_avg  Price_overall  \\\n",
       "994                     1620.00                   1620          19.73   \n",
       "1143                    2160.00                   2160           5.33   \n",
       "2059                    2160.00                   2160           5.33   \n",
       "2882                    1620.00                   1620           5.96   \n",
       "3342                    2160.00                   2160           5.33   \n",
       "\n",
       "      Price_avg  Review10/10  Completion  Minutes_listened  \\\n",
       "994       19.73        10.00        0.99           1603.80   \n",
       "1143       5.33         8.91        0.00              0.00   \n",
       "2059       5.33         8.91        0.00              0.00   \n",
       "2882       5.96         8.91        0.42            680.40   \n",
       "3342       5.33         8.91        0.22            475.20   \n",
       "\n",
       "      Last_Visited_mins_Purchase_date  Target  Support_Request_0  ...  \\\n",
       "994                                92       0                  0  ...   \n",
       "1143                                0       0                  1  ...   \n",
       "2059                              388       0                  1  ...   \n",
       "2882                              129       0                  0  ...   \n",
       "3342                              361       0                  1  ...   \n",
       "\n",
       "      Support_Request_4  Support_Request_5  Support_Request_6  \\\n",
       "994                   0                  1                  0   \n",
       "1143                  0                  0                  0   \n",
       "2059                  0                  0                  0   \n",
       "2882                  0                  0                  0   \n",
       "3342                  0                  0                  0   \n",
       "\n",
       "      Support_Request_7  Support_Request_8  Support_Request_10  \\\n",
       "994                   0                  0                   0   \n",
       "1143                  0                  0                   0   \n",
       "2059                  0                  0                   0   \n",
       "2882                  0                  0                   0   \n",
       "3342                  0                  0                   0   \n",
       "\n",
       "      Support_Request_12  Support_Request_30  Review_0  Review_1  \n",
       "994                    0                   0         0         1  \n",
       "1143                   0                   0         1         0  \n",
       "2059                   0                   0         1         0  \n",
       "2882                   0                   0         1         0  \n",
       "3342                   0                   0         1         0  \n",
       "\n",
       "[5 rows x 23 columns]"
      ]
     },
     "execution_count": 9,
     "metadata": {},
     "output_type": "execute_result"
    }
   ],
   "source": [
    "data_1 = pd.get_dummies(data, columns=[\"Support_Request\", \"Review\"])\n",
    "data_1.head()"
   ]
  },
  {
   "cell_type": "code",
   "execution_count": 10,
   "metadata": {},
   "outputs": [],
   "source": [
    "X = data_1.drop('Target', axis=1)\n",
    "y = data_1.Target"
   ]
  },
  {
   "cell_type": "markdown",
   "metadata": {},
   "source": [
    "## Trying Logistic Regression without balancing the dataset"
   ]
  },
  {
   "cell_type": "code",
   "execution_count": 26,
   "metadata": {},
   "outputs": [],
   "source": [
    "def accuracy_report(y_test, y_test_pred):\n",
    "    print(f\"=========test data============ :\\n=>Accuracy Score {accuracy_score(y_test, y_test_pred)}\")\n",
    "    print(f\"=>Confusion Matrix :\\n{confusion_matrix(y_test, y_test_pred)}\")\n",
    "    print(f\"=>Classification Report :\\n{classification_report(y_test, y_test_pred)}\")"
   ]
  },
  {
   "cell_type": "code",
   "execution_count": 32,
   "metadata": {},
   "outputs": [],
   "source": [
    "from sklearn.linear_model import LogisticRegression\n",
    "from sklearn.model_selection import train_test_split, cross_val_score\n",
    "from sklearn.metrics import confusion_matrix, accuracy_score, classification_report\n",
    "from sklearn.preprocessing import StandardScaler\n",
    "\n",
    "x_sc = StandardScaler()\n",
    "X_std = x_sc.fit_transform(X)\n",
    "\n",
    "X_train, X_test, y_train, y_test = train_test_split(X_std, y, test_size=0.2, random_state=42)\n",
    "\n",
    "model = LogisticRegression(solver='liblinear', max_iter=1000)\n",
    "model.fit(X_train, y_train)\n",
    "\n",
    "y_pred = model.predict(X_test)"
   ]
  },
  {
   "cell_type": "code",
   "execution_count": 33,
   "metadata": {},
   "outputs": [
    {
     "name": "stdout",
     "output_type": "stream",
     "text": [
      "=========test data============ :\n",
      "=>Accuracy Score 0.9034433794817182\n",
      "=>Confusion Matrix :\n",
      "[[2358   30]\n",
      " [ 242  187]]\n",
      "=>Classification Report :\n",
      "              precision    recall  f1-score   support\n",
      "\n",
      "           0       0.91      0.99      0.95      2388\n",
      "           1       0.86      0.44      0.58       429\n",
      "\n",
      "    accuracy                           0.90      2817\n",
      "   macro avg       0.88      0.71      0.76      2817\n",
      "weighted avg       0.90      0.90      0.89      2817\n",
      "\n"
     ]
    }
   ],
   "source": [
    "accuracy_report(y_test, y_pred)"
   ]
  },
  {
   "cell_type": "code",
   "execution_count": 39,
   "metadata": {},
   "outputs": [
    {
     "data": {
      "text/plain": [
       "0.9006674525577527"
      ]
     },
     "execution_count": 39,
     "metadata": {},
     "output_type": "execute_result"
    }
   ],
   "source": [
    "scores = cross_val_score(model, X_std, y, cv=10)\n",
    "scores.mean()"
   ]
  },
  {
   "cell_type": "markdown",
   "metadata": {},
   "source": [
    "## Trying Logistic Regression with balanced dataset"
   ]
  },
  {
   "cell_type": "markdown",
   "metadata": {},
   "source": [
    "### 1. Up-sample Minority Class"
   ]
  },
  {
   "cell_type": "code",
   "execution_count": 34,
   "metadata": {},
   "outputs": [
    {
     "data": {
      "text/plain": [
       "1    11847\n",
       "0    11847\n",
       "Name: Target, dtype: int64"
      ]
     },
     "execution_count": 34,
     "metadata": {},
     "output_type": "execute_result"
    }
   ],
   "source": [
    "from sklearn.utils import resample\n",
    "\n",
    "# Separate majority and minority classes\n",
    "df_majority = data[data.Target==0]\n",
    "df_minority = data[data.Target==1]\n",
    " \n",
    "# Upsample minority class\n",
    "df_minority_upsampled = resample(df_minority, \n",
    "                                 replace=True,     # sample with replacement\n",
    "                                 n_samples=11847,    # to match majority class\n",
    "                                 random_state=123) # reproducible results\n",
    " \n",
    "# Combine majority class with upsampled minority class\n",
    "df_upsampled = pd.concat([df_majority, df_minority_upsampled])\n",
    " \n",
    "X = df_upsampled.drop('Target', axis=1)\n",
    "y = df_upsampled.Target\n",
    "# Display new class counts\n",
    "df_upsampled.Target.value_counts()"
   ]
  },
  {
   "cell_type": "code",
   "execution_count": 35,
   "metadata": {},
   "outputs": [],
   "source": [
    "x_sc = StandardScaler()\n",
    "X_std = x_sc.fit_transform(X)\n",
    "\n",
    "X_train, X_test, y_train, y_test = train_test_split(X_std, y, test_size=0.2, random_state=42)\n",
    "\n",
    "model = LogisticRegression(solver='liblinear', max_iter=1000)\n",
    "model.fit(X_train, y_train)\n",
    "\n",
    "y_pred = model.predict(X_test)"
   ]
  },
  {
   "cell_type": "code",
   "execution_count": 36,
   "metadata": {},
   "outputs": [
    {
     "name": "stdout",
     "output_type": "stream",
     "text": [
      "=========test data============ :\n",
      "=>Accuracy Score 0.7963705423085039\n",
      "=>Confusion Matrix :\n",
      "[[2128  256]\n",
      " [ 709 1646]]\n",
      "=>Classification Report :\n",
      "              precision    recall  f1-score   support\n",
      "\n",
      "           0       0.75      0.89      0.82      2384\n",
      "           1       0.87      0.70      0.77      2355\n",
      "\n",
      "    accuracy                           0.80      4739\n",
      "   macro avg       0.81      0.80      0.79      4739\n",
      "weighted avg       0.81      0.80      0.79      4739\n",
      "\n"
     ]
    }
   ],
   "source": [
    "accuracy_report(y_test, y_pred)"
   ]
  },
  {
   "cell_type": "markdown",
   "metadata": {},
   "source": [
    "### 2. Down-sample Majority Class"
   ]
  },
  {
   "cell_type": "code",
   "execution_count": 37,
   "metadata": {},
   "outputs": [
    {
     "data": {
      "text/plain": [
       "1    2237\n",
       "0    2237\n",
       "Name: Target, dtype: int64"
      ]
     },
     "execution_count": 37,
     "metadata": {},
     "output_type": "execute_result"
    }
   ],
   "source": [
    "# Separate majority and minority classes\n",
    "df_majority = data[data.Target==0]\n",
    "df_minority = data[data.Target==1]\n",
    " \n",
    "# Upsample minority class\n",
    "df_majority_downsample = resample(df_majority, \n",
    "                                 replace=False,     # sample with replacement\n",
    "                                 n_samples=2237,    # to match majority class\n",
    "                                 random_state=123) # reproducible results\n",
    " \n",
    "# Combine majority class with upsampled minority class\n",
    "df_upsampled = pd.concat([df_majority_downsample, df_minority])\n",
    " \n",
    "X = df_upsampled.drop('Target', axis=1)\n",
    "y = df_upsampled.Target\n",
    "# Display new class counts\n",
    "df_upsampled.Target.value_counts()"
   ]
  },
  {
   "cell_type": "code",
   "execution_count": 38,
   "metadata": {},
   "outputs": [],
   "source": [
    "x_sc = StandardScaler()\n",
    "X_std = x_sc.fit_transform(X)\n",
    "\n",
    "X_train, X_test, y_train, y_test = train_test_split(X_std, y, test_size=0.2, random_state=42)\n",
    "\n",
    "model = LogisticRegression(solver='liblinear', max_iter=1000)\n",
    "model.fit(X_train, y_train)\n",
    "\n",
    "y_pred = model.predict(X_test)"
   ]
  },
  {
   "cell_type": "code",
   "execution_count": 39,
   "metadata": {},
   "outputs": [
    {
     "name": "stdout",
     "output_type": "stream",
     "text": [
      "=========test data============ :\n",
      "=>Accuracy Score 0.8055865921787709\n",
      "=>Confusion Matrix :\n",
      "[[404  55]\n",
      " [119 317]]\n",
      "=>Classification Report :\n",
      "              precision    recall  f1-score   support\n",
      "\n",
      "           0       0.77      0.88      0.82       459\n",
      "           1       0.85      0.73      0.78       436\n",
      "\n",
      "    accuracy                           0.81       895\n",
      "   macro avg       0.81      0.80      0.80       895\n",
      "weighted avg       0.81      0.81      0.80       895\n",
      "\n"
     ]
    }
   ],
   "source": [
    "accuracy_report(y_test, y_pred)"
   ]
  },
  {
   "cell_type": "markdown",
   "metadata": {},
   "source": [
    "### 3. Penalize Algorithms (Cost-Sensitive Training)"
   ]
  },
  {
   "cell_type": "code",
   "execution_count": null,
   "metadata": {},
   "outputs": [],
   "source": [
    "from sklearn.svm import SVC\n",
    "\n",
    "X = data_1.drop('Target', axis=1)\n",
    "y = data_1.Target\n",
    "\n",
    "x_sc = StandardScaler()\n",
    "X_std = x_sc.fit_transform(X)\n",
    "\n",
    "X_train, X_test, y_train, y_test = train_test_split(X_std, y, test_size=0.2, random_state=42)\n",
    "\n",
    "model = SVC(kernel='linear', \n",
    "            class_weight='balanced', # penalize\n",
    "            probability=True)\n",
    "\n",
    "model.fit(X_train, y_train)\n",
    "\n",
    "y_train_pred = model.predict(X_train)\n",
    "y_test_pred = model.predict(X_test)"
   ]
  },
  {
   "cell_type": "code",
   "execution_count": null,
   "metadata": {},
   "outputs": [],
   "source": [
    "print(f\"========Train data============ :\\n=>Accuracy Score {accuracy_score(y_train, y_train_pred)}\")\n",
    "print(f\"=>Confusion Matrix :\\n{confusion_matrix(y_train, y_train_pred)}\")\n",
    "\n",
    "print(f\"=========test data============ :\\n=>Accuracy Score {accuracy_score(y_test, y_test_pred)}\")\n",
    "print(f\"=>Confusion Matrix :\\n{confusion_matrix(y_test, y_test_pred)}\")\n",
    "print(f\"=>Classification Report :\\n{classification_report(y_test, y_test_pred)}\")"
   ]
  },
  {
   "cell_type": "markdown",
   "metadata": {},
   "source": [
    "### 4. Use Tree-Based Algorithms"
   ]
  },
  {
   "cell_type": "code",
   "execution_count": null,
   "metadata": {},
   "outputs": [],
   "source": [
    "from sklearn.ensemble import RandomForestClassifier\n",
    "\n",
    "X = data_1.drop('Target', axis=1)\n",
    "y = data_1.Target\n",
    "\n",
    "X_train, X_test, y_train, y_test = train_test_split(X_std, y, test_size=0.2, random_state=42)\n",
    "\n",
    "model = RandomForestClassifier()\n",
    "\n",
    "model.fit(X_train, y_train)\n",
    "\n",
    "y_train_pred = model.predict(X_train)\n",
    "y_test_pred = model.predict(X_test)"
   ]
  }
 ],
 "metadata": {
  "kernelspec": {
   "display_name": "Python 3",
   "language": "python",
   "name": "python3"
  },
  "language_info": {
   "codemirror_mode": {
    "name": "ipython",
    "version": 3
   },
   "file_extension": ".py",
   "mimetype": "text/x-python",
   "name": "python",
   "nbconvert_exporter": "python",
   "pygments_lexer": "ipython3",
   "version": "3.7.0"
  }
 },
 "nbformat": 4,
 "nbformat_minor": 2
}
